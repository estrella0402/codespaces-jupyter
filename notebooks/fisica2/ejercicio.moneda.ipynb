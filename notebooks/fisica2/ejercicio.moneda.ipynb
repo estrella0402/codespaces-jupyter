{
 "cells": [
  {
   "cell_type": "markdown",
   "metadata": {},
   "source": [
    "## Ejercicio1 ##"
   ]
  },
  {
   "cell_type": "markdown",
   "metadata": {},
   "source": [
    "Datos:"
   ]
  },
  {
   "cell_type": "markdown",
   "metadata": {},
   "source": [
    "Tenemos una moneda de cobre con una masa de $3.1g$ ¿Cuál es la carga total de todos los electrones contenidos en la moneda?"
   ]
  },
  {
   "cell_type": "markdown",
   "metadata": {},
   "source": [
    "- $ m=3.1g $"
   ]
  },
  {
   "cell_type": "markdown",
   "metadata": {},
   "source": [
    "- $ z=29 $"
   ]
  },
  {
   "cell_type": "markdown",
   "metadata": {},
   "source": [
    "- $ A= 63.55g $"
   ]
  },
  {
   "cell_type": "markdown",
   "metadata": {},
   "source": [
    "- $ NA = 6.02 \\times 10^{23}  $"
   ]
  },
  {
   "cell_type": "markdown",
   "metadata": {},
   "source": [
    "- $ qe = -1.6 \\times 10  ^{-19}  C $"
   ]
  },
  {
   "cell_type": "markdown",
   "metadata": {},
   "source": [
    "Incognita :"
   ]
  },
  {
   "cell_type": "markdown",
   "metadata": {},
   "source": [
    "- q=?"
   ]
  },
  {
   "cell_type": "markdown",
   "metadata": {},
   "source": [
    "Procedimiento"
   ]
  },
  {
   "cell_type": "markdown",
   "metadata": {},
   "source": [
    "### $q= 3.1 \\cancel{g} \\frac{6.02\\times10^{23} \\cancel{atomos}}{63.55 \\cancel{g}} \\frac{20 \\space \\cancel {electrones}} {1 \\space \\cancel{atomos}} \\frac{-1.3 \\times 10^{-19}c}{1 \\space \\cancel{electrones}}$"
   ]
  },
  {
   "cell_type": "markdown",
   "metadata": {},
   "source": [
    "### $ q=\\frac {3.1 \\times (6.02\\times 10^{23}) \\times 29} {63.55}$\n",
    "     "
   ]
  },
  {
   "cell_type": "markdown",
   "metadata": {},
   "source": [
    "resultado"
   ]
  },
  {
   "cell_type": "markdown",
   "metadata": {},
   "source": [
    "### <span style=\"color: red;\"> q=-136257.561c"
   ]
  }
 ],
 "metadata": {
  "language_info": {
   "name": "python"
  }
 },
 "nbformat": 4,
 "nbformat_minor": 2
}
